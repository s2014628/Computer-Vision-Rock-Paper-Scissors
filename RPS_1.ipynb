{
 "cells": [
  {
   "cell_type": "code",
   "execution_count": 1,
   "metadata": {},
   "outputs": [],
   "source": [
    "def get_user_choice():\n",
    "    user_choice = input(\"What is your choice? Please enter rock (r), paper (p) or scissors (s)\")\n",
    "\n",
    "    if user_choice == \"r\":\n",
    "        return \"rock\"\n",
    "    elif user_choice == \"p\":\n",
    "        return \"paper\"\n",
    "    elif user_choice ==\"s\":\n",
    "        return \"scissors\"\n",
    "    else:\n",
    "        return \"invalid\"\n",
    "\n",
    "\n"
   ]
  },
  {
   "cell_type": "code",
   "execution_count": 2,
   "metadata": {},
   "outputs": [],
   "source": [
    "def get_computer_choice(choice_list):\n",
    "    import random   \n",
    "    return random.choice(choice_list)"
   ]
  },
  {
   "cell_type": "code",
   "execution_count": 3,
   "metadata": {},
   "outputs": [],
   "source": [
    "def who_won(user_choice, computer_choice):\n",
    "    if user_choice == computer_choice:\n",
    "        return \"The result is a draw\"\n",
    "    elif user_choice == 'rock':\n",
    "        if computer_choice == 'scissors':\n",
    "            return \"Rock sharpens scissors: you win\"\n",
    "        elif computer_choice == 'paper':\n",
    "            return \"Paper wraps rock: computer wins\"\n",
    "        else:\n",
    "            return \"The computer's selection could not be processed\"\n",
    "    elif user_choice == 'scissors':\n",
    "        if computer_choice == 'paper':\n",
    "            return \"Scissors cut paper=: you win\"\n",
    "        elif computer_choice == 'rock':\n",
    "            return \"Rock sharpens scissors: computer wins\"\n",
    "        else:\n",
    "            return \"The computer's selection could not be processed\"\n",
    "    elif user_choice == 'paper':\n",
    "        if computer_choice == 'scissors':\n",
    "            return \"Scissors cut paper=: computer wins\"\n",
    "        elif computer_choice == 'rock':\n",
    "            return \"Rock sharpens scissors: you win\"\n",
    "        else:\n",
    "            return \"The computer's selection could not be processed\"\n",
    "    else:\n",
    "        return \"Your selection could not be processed\""
   ]
  },
  {
   "cell_type": "code",
   "execution_count": null,
   "metadata": {},
   "outputs": [],
   "source": []
  },
  {
   "cell_type": "code",
   "execution_count": null,
   "metadata": {},
   "outputs": [],
   "source": []
  },
  {
   "cell_type": "code",
   "execution_count": 4,
   "metadata": {},
   "outputs": [],
   "source": [
    "def play_rps():\n",
    "    choice_list = ['rock', 'paper', 'scissors']\n",
    "    computer_choice = get_computer_choice(choice_list)\n",
    "    user_choice = get_user_choice()\n",
    "\n",
    "    print(\"You chose\", user_choice)\n",
    "    print(\"The computer chose\", computer_choice)\n",
    "    print(who_won(user_choice, computer_choice))"
   ]
  },
  {
   "cell_type": "code",
   "execution_count": 1,
   "metadata": {},
   "outputs": [
    {
     "ename": "NameError",
     "evalue": "name 'play_rps' is not defined",
     "output_type": "error",
     "traceback": [
      "\u001b[1;31m---------------------------------------------------------------------------\u001b[0m",
      "\u001b[1;31mNameError\u001b[0m                                 Traceback (most recent call last)",
      "\u001b[1;32mc:\\Users\\44772\\Computer-Vision-Rock-Paper-Scissors\\RPS_1.ipynb Cell 1'\u001b[0m in \u001b[0;36m<cell line: 1>\u001b[1;34m()\u001b[0m\n\u001b[1;32m----> <a href='vscode-notebook-cell:/c%3A/Users/44772/Computer-Vision-Rock-Paper-Scissors/RPS_1.ipynb#ch0000000?line=0'>1</a>\u001b[0m play_rps()\n",
      "\u001b[1;31mNameError\u001b[0m: name 'play_rps' is not defined"
     ]
    }
   ],
   "source": [
    "play_rps()"
   ]
  },
  {
   "cell_type": "code",
   "execution_count": 7,
   "metadata": {},
   "outputs": [],
   "source": [
    "def get_user_choice():\n",
    "    \n",
    "    user_choice = input(\"what is you choice? Please enter r for (rock), p for (papper) or s for (scissors)\")\n",
    "\n",
    "    if user_choice == \"r\":\n",
    "        return \"rock\"\n",
    "    elif user_choice == \"p\":\n",
    "        return \"paper\"\n",
    "    elif user_choice ==\"s\":\n",
    "        return \"scissors\"\n",
    "\n",
    "\n",
    "def get_computer_choice(choice_list):\n",
    "    import random   \n",
    "    return random.choice(choice_list)\n",
    "\n",
    "def who_won(user_choice, computer_choice):\n",
    "    if user_choice == computer_choice:\n",
    "        return \"The match is a draw\"\n",
    "    elif user_choice == 'rock':\n",
    "        if computer_choice == 'scissors':\n",
    "            return \"you win\"\n",
    "        elif computer_choice == 'paper':\n",
    "            return \"computer wins\"\n",
    "\n",
    "    elif user_choice == 'scissors':\n",
    "        if computer_choice == 'paper':\n",
    "            return \" you win\"\n",
    "        elif computer_choice == 'rock':\n",
    "            return \" computer wins\"\n",
    "\n",
    "    elif user_choice == 'paper':\n",
    "        if computer_choice == 'scissors':\n",
    "            return \" computer wins\"\n",
    "        elif computer_choice == 'rock':\n",
    "            return \" you win\"\n",
    "def play():\n",
    "    choice_list = ['rock', 'paper', 'scissors']\n",
    "    computer_choice = get_computer_choice(choice_list)\n",
    "    user_choice = get_user_choice()\n",
    "\n",
    "    print(\"Your choice is\", user_choice)\n",
    "    print(\"The computer choice is\", computer_choice)\n",
    "    print(who_won(user_choice, computer_choice))"
   ]
  },
  {
   "cell_type": "code",
   "execution_count": 8,
   "metadata": {},
   "outputs": [
    {
     "name": "stdout",
     "output_type": "stream",
     "text": [
      "Your choice is rock\n",
      "The computer choice rock\n",
      "The match is a draw\n"
     ]
    }
   ],
   "source": [
    "play()"
   ]
  }
 ],
 "metadata": {
  "kernelspec": {
   "display_name": "Python 3.10.4 ('RPS_demo')",
   "language": "python",
   "name": "python3"
  },
  "language_info": {
   "codemirror_mode": {
    "name": "ipython",
    "version": 3
   },
   "file_extension": ".py",
   "mimetype": "text/x-python",
   "name": "python",
   "nbconvert_exporter": "python",
   "pygments_lexer": "ipython3",
   "version": "3.10.4"
  },
  "orig_nbformat": 4,
  "vscode": {
   "interpreter": {
    "hash": "066050b64b95455f32f4e88835acac72714d93012e6606de59be4a83bea82902"
   }
  }
 },
 "nbformat": 4,
 "nbformat_minor": 2
}
